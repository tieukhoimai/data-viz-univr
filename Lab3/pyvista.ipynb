{
 "cells": [
  {
   "cell_type": "code",
   "execution_count": 1,
   "metadata": {},
   "outputs": [
    {
     "name": "stderr",
     "output_type": "stream",
     "text": [
      "c:\\Users\\Utente\\anaconda3\\lib\\site-packages\\paramiko\\transport.py:219: CryptographyDeprecationWarning: Blowfish has been deprecated\n",
      "  \"class\": algorithms.Blowfish,\n"
     ]
    },
    {
     "data": {
      "application/vnd.jupyter.widget-view+json": {
       "model_id": "82f4a2dfcf5f42b8a2e9083d2bf508be",
       "version_major": 2,
       "version_minor": 0
      },
      "text/plain": [
       "Widget(value=\"<iframe src='http://localhost:61449/index.html?ui=P_0x1b3e3cc9fa0_0&reconnect=auto' style='width…"
      ]
     },
     "metadata": {},
     "output_type": "display_data"
    }
   ],
   "source": [
    "import pyvista as pv\n",
    "from pyvista import examples\n",
    "\n",
    "mesh = examples.download_bunny_coarse()\n",
    "\n",
    "p = pv.Plotter()\n",
    "p.add_mesh(mesh, show_edges=True, color='white')\n",
    "p.add_mesh(pv.PolyData(mesh.points), color='red')\n",
    "p.camera_position = [(0.02, 0.30, 0.73),\n",
    "                 (0.02, 0.03, -0.022),\n",
    "                 (-0.03, 0.94, -0.34)]\n",
    "p.show(screenshot='bunny_nodes.png')"
   ]
  },
  {
   "cell_type": "code",
   "execution_count": 2,
   "metadata": {},
   "outputs": [
    {
     "data": {
      "application/vnd.jupyter.widget-view+json": {
       "model_id": "aa842fc509424db7bea12dcbcc0329ba",
       "version_major": 2,
       "version_minor": 0
      },
      "text/plain": [
       "Widget(value=\"<iframe src='http://localhost:61449/index.html?ui=P_0x1b3f4a50df0_1&reconnect=auto' style='width…"
      ]
     },
     "metadata": {},
     "output_type": "display_data"
    }
   ],
   "source": [
    "p = pv.Plotter(lighting='none')\n",
    "light = pv.Light(position=(-1, 4, 1), color='red')\n",
    "light.positional = True\n",
    "mesh = examples.download_bunny()\n",
    "mesh.rotate_x(90)\n",
    "mesh.rotate_z(180)\n",
    "p.add_mesh(mesh, specular=1, diffuse=1, smooth_shading=True)\n",
    "p.add_light(light)\n",
    "p.show(screenshot='ominous_bunny.png')"
   ]
  },
  {
   "cell_type": "code",
   "execution_count": 3,
   "metadata": {},
   "outputs": [
    {
     "data": {
      "application/vnd.jupyter.widget-view+json": {
       "model_id": "52bd2924dc1548a49ca01f8a7e480e43",
       "version_major": 2,
       "version_minor": 0
      },
      "text/plain": [
       "Widget(value=\"<iframe src='http://localhost:61449/index.html?ui=P_0x1b3f4a701f0_2&reconnect=auto' style='width…"
      ]
     },
     "metadata": {},
     "output_type": "display_data"
    }
   ],
   "source": [
    "dataset = examples.download_office()\n",
    "\n",
    "bounds = [2,5, 2,4.5, 1,3]\n",
    "clipped = dataset.clip_box(bounds)\n",
    "\n",
    "p = pv.Plotter()\n",
    "#p.add_mesh(dataset, label='Input')\n",
    "p.add_mesh(clipped, label='Clipped')\n",
    "p.add_legend()\n",
    "p.show()"
   ]
  },
  {
   "cell_type": "code",
   "execution_count": 11,
   "metadata": {},
   "outputs": [
    {
     "data": {
      "application/vnd.jupyter.widget-view+json": {
       "model_id": "eb1a1b728ea34af68e2e2c04772d2842",
       "version_major": 2,
       "version_minor": 0
      },
      "text/plain": [
       "Widget(value=\"<iframe src='http://localhost:61524/index.html?ui=P_0x2265da0cac0_10&reconnect=auto' style='widt…"
      ]
     },
     "metadata": {},
     "output_type": "display_data"
    }
   ],
   "source": [
    "import matplotlib.pyplot as plt\n",
    "import numpy as np\n",
    "mesh = examples.load_channels()\n",
    "# define a categorical colormap\n",
    "\n",
    "cmap = plt.cm.get_cmap(\"viridis\", 4)\n",
    "\n",
    "\n",
    "mesh.plot(cmap=cmap)"
   ]
  },
  {
   "cell_type": "code",
   "execution_count": 16,
   "metadata": {},
   "outputs": [
    {
     "data": {
      "application/vnd.jupyter.widget-view+json": {
       "model_id": "dc2ae00323d54828884fa3d0fbcbdbc6",
       "version_major": 2,
       "version_minor": 0
      },
      "text/plain": [
       "Widget(value=\"<iframe src='http://localhost:61524/index.html?ui=P_0x22601d28730_15&reconnect=auto' style='widt…"
      ]
     },
     "metadata": {},
     "output_type": "display_data"
    }
   ],
   "source": [
    "slices = mesh.slice_orthogonal()\n",
    "\n",
    "slices.plot(cmap=cmap)"
   ]
  },
  {
   "cell_type": "code",
   "execution_count": 17,
   "metadata": {},
   "outputs": [
    {
     "data": {
      "application/vnd.jupyter.widget-view+json": {
       "model_id": "dace2d2b201149bba7a4ca9ffa72252c",
       "version_major": 2,
       "version_minor": 0
      },
      "text/plain": [
       "Widget(value=\"<iframe src='http://localhost:61524/index.html?ui=P_0x22601d26fd0_16&reconnect=auto' style='widt…"
      ]
     },
     "metadata": {},
     "output_type": "display_data"
    }
   ],
   "source": [
    "slices = mesh.slice_orthogonal(x=20, y=20, z=30)\n",
    "slices.plot(cmap=cmap)"
   ]
  },
  {
   "cell_type": "code",
   "execution_count": 19,
   "metadata": {},
   "outputs": [
    {
     "data": {
      "application/vnd.jupyter.widget-view+json": {
       "model_id": "2c98085f7a4447949f43e619d8e16cae",
       "version_major": 2,
       "version_minor": 0
      },
      "text/plain": [
       "Widget(value=\"<iframe src='http://localhost:61524/index.html?ui=P_0x22604cfaaf0_18&reconnect=auto' style='widt…"
      ]
     },
     "metadata": {},
     "output_type": "display_data"
    }
   ],
   "source": [
    "slices = mesh.slice_along_axis(n=4, axis=\"y\")\n",
    "\n",
    "slices.plot(cmap=cmap)"
   ]
  },
  {
   "cell_type": "code",
   "execution_count": 20,
   "metadata": {},
   "outputs": [
    {
     "data": {
      "application/vnd.jupyter.widget-view+json": {
       "model_id": "856ffe0f902d4f08adaa0ffa22e34126",
       "version_major": 2,
       "version_minor": 0
      },
      "text/plain": [
       "Widget(value=\"<iframe src='http://localhost:61524/index.html?ui=P_0x22604cfc910_19&reconnect=auto' style='widt…"
      ]
     },
     "metadata": {},
     "output_type": "display_data"
    }
   ],
   "source": [
    "# Single slice - origin defaults to the center of the mesh\n",
    "single_slice = mesh.slice(normal=[1, 1, 0])\n",
    "\n",
    "p = pv.Plotter()\n",
    "p.add_mesh(mesh.outline(), color=\"k\")\n",
    "p.add_mesh(single_slice, cmap=cmap)\n",
    "p.show()"
   ]
  },
  {
   "cell_type": "code",
   "execution_count": 21,
   "metadata": {},
   "outputs": [
    {
     "data": {
      "application/vnd.jupyter.widget-view+json": {
       "model_id": "2eea64df910b44eaa20ec275a934ffdf",
       "version_major": 2,
       "version_minor": 0
      },
      "text/plain": [
       "Widget(value=\"<iframe src='http://localhost:61524/index.html?ui=P_0x2267aed1220_20&reconnect=auto' style='widt…"
      ]
     },
     "metadata": {},
     "output_type": "display_data"
    }
   ],
   "source": [
    "mesh = examples.load_random_hills()\n",
    "\n",
    "contours = mesh.contour()\n",
    "\n",
    "p = pv.Plotter()\n",
    "p.add_mesh(mesh, opacity=0.85)\n",
    "p.add_mesh(contours, color=\"white\", line_width=5)\n",
    "p.show()"
   ]
  },
  {
   "cell_type": "code",
   "execution_count": 22,
   "metadata": {},
   "outputs": [
    {
     "data": {
      "text/html": [
       "<table><tr><th>Header</th><th>Data Arrays</th></tr><tr><td>\n",
       "<table>\n",
       "<tr><th>UniformGrid</th><th>Information</th></tr>\n",
       "<tr><td>N Cells</td><td>6998400</td></tr>\n",
       "<tr><td>N Points</td><td>7109137</td></tr>\n",
       "<tr><td>X Bounds</td><td>0.000e+00, 1.800e+02</td></tr>\n",
       "<tr><td>Y Bounds</td><td>0.000e+00, 2.160e+02</td></tr>\n",
       "<tr><td>Z Bounds</td><td>0.000e+00, 1.800e+02</td></tr>\n",
       "<tr><td>Dimensions</td><td>181, 217, 181</td></tr>\n",
       "<tr><td>Spacing</td><td>1.000e+00, 1.000e+00, 1.000e+00</td></tr>\n",
       "<tr><td>N Arrays</td><td>1</td></tr>\n",
       "</table>\n",
       "\n",
       "</td><td>\n",
       "<table>\n",
       "<tr><th>Name</th><th>Field</th><th>Type</th><th>N Comp</th><th>Min</th><th>Max</th></tr>\n",
       "<tr><td><b>image_data</b></td><td>Points</td><td>uint8</td><td>1</td><td>0.000e+00</td><td>2.550e+02</td></tr>\n",
       "</table>\n",
       "\n",
       "</td></tr> </table>"
      ],
      "text/plain": [
       "UniformGrid (0x2260519be80)\n",
       "  N Cells:      6998400\n",
       "  N Points:     7109137\n",
       "  X Bounds:     0.000e+00, 1.800e+02\n",
       "  Y Bounds:     0.000e+00, 2.160e+02\n",
       "  Z Bounds:     0.000e+00, 1.800e+02\n",
       "  Dimensions:   181, 217, 181\n",
       "  Spacing:      1.000e+00, 1.000e+00, 1.000e+00\n",
       "  N Arrays:     1"
      ]
     },
     "execution_count": 22,
     "metadata": {},
     "output_type": "execute_result"
    }
   ],
   "source": [
    "import numpy as np\n",
    "\n",
    "vol = examples.download_brain()\n",
    "vol"
   ]
  },
  {
   "cell_type": "code",
   "execution_count": 27,
   "metadata": {},
   "outputs": [],
   "source": [
    "#I sample different levels in the range for extracting isosurfaces\n",
    "values = np.linspace(5, 150, num=25)"
   ]
  },
  {
   "cell_type": "code",
   "execution_count": 28,
   "metadata": {},
   "outputs": [],
   "source": [
    "surface = vol.contour([values[0]],)"
   ]
  },
  {
   "cell_type": "code",
   "execution_count": 29,
   "metadata": {},
   "outputs": [],
   "source": [
    "#compute the isosurfaces at the different levels\n",
    "surfaces = [vol.contour([v]) for v in values]\n"
   ]
  },
  {
   "cell_type": "code",
   "execution_count": 32,
   "metadata": {
    "scrolled": true
   },
   "outputs": [
    {
     "data": {
      "application/vnd.jupyter.widget-view+json": {
       "model_id": "1724b8430c044b7cb95ef66157c43a36",
       "version_major": 2,
       "version_minor": 0
      },
      "text/plain": [
       "Widget(value=\"<iframe src='http://localhost:61524/index.html?ui=P_0x22623530100_24&reconnect=auto' style='widt…"
      ]
     },
     "metadata": {},
     "output_type": "display_data"
    }
   ],
   "source": [
    "# Take one of the isosurfaces and display\n",
    "\n",
    "p = pv.Plotter()\n",
    "p.clear()\n",
    "surface = surfaces[1].copy()\n",
    "actor = p.add_mesh(surface, opacity=0.2, clim=vol.get_data_range())\n",
    "actor.prop.diffuse = 1\n",
    "actor.prop.specular = 0\n",
    "\n",
    "# Add outline for reference\n",
    "#p.add_mesh(vol.outline_corners())\n",
    "light = pv.Light(light_type='headlight')\n",
    "p.add_light(light)\n",
    "p.show()"
   ]
  },
  {
   "cell_type": "code",
   "execution_count": null,
   "metadata": {},
   "outputs": [],
   "source": []
  },
  {
   "cell_type": "code",
   "execution_count": null,
   "metadata": {},
   "outputs": [],
   "source": []
  },
  {
   "cell_type": "code",
   "execution_count": null,
   "metadata": {},
   "outputs": [],
   "source": []
  }
 ],
 "metadata": {
  "kernelspec": {
   "display_name": "Python 3 (ipykernel)",
   "language": "python",
   "name": "python3"
  },
  "language_info": {
   "codemirror_mode": {
    "name": "ipython",
    "version": 3
   },
   "file_extension": ".py",
   "mimetype": "text/x-python",
   "name": "python",
   "nbconvert_exporter": "python",
   "pygments_lexer": "ipython3",
   "version": "3.9.13"
  }
 },
 "nbformat": 4,
 "nbformat_minor": 2
}
