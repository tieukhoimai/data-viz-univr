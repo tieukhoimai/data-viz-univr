{
 "cells": [
  {
   "cell_type": "code",
   "execution_count": 1,
   "id": "544bc3ad",
   "metadata": {},
   "outputs": [
    {
     "name": "stderr",
     "output_type": "stream",
     "text": [
      "C:\\Users\\Utente\\anaconda3\\lib\\site-packages\\paramiko\\transport.py:219: CryptographyDeprecationWarning: Blowfish has been deprecated\n",
      "  \"class\": algorithms.Blowfish,\n"
     ]
    }
   ],
   "source": [
    "import numpy as np\n",
    "import pyvista as pv\n",
    "from pyvista import examples\n"
   ]
  },
  {
   "cell_type": "code",
   "execution_count": 5,
   "id": "27985738",
   "metadata": {
    "scrolled": true
   },
   "outputs": [
    {
     "data": {
      "application/vnd.jupyter.widget-view+json": {
       "model_id": "19ea6c9981794aa7abf746ba970f3e28",
       "version_major": 2,
       "version_minor": 0
      },
      "text/plain": [
       "Widget(value=\"<iframe src='http://localhost:62052/index.html?ui=P_0x27c5dc01070_3&reconnect=auto' style='width…"
      ]
     },
     "metadata": {},
     "output_type": "display_data"
    }
   ],
   "source": [
    "mesh = examples.download_carotid().threshold(145, scalars=\"scalars\")\n",
    "mask = mesh['scalars'] < 210\n",
    "mesh['scalars'][mask] = 0  # null out smaller vectors\n",
    "\n",
    "# Make a geometric object to use as the glyph\n",
    "geom = pv.Arrow()  # This could be any dataset\n",
    "\n",
    "# Perform the glyph\n",
    "glyphs = mesh.glyph(orient=\"vectors\", scale=\"vectors\", factor=0.3, geom=geom)\n",
    "\n",
    "# plot using the plotting class\n",
    "pl = pv.Plotter()\n",
    "pl.add_mesh(glyphs, show_scalar_bar=False, lighting=True, cmap='coolwarm')\n",
    "pl.camera_position = [\n",
    "    (146.53, 91.28, 21.70),\n",
    "    (125.00, 94.45, 19.81),\n",
    "    (-0.086, 0.007, 0.996),\n",
    "]  # view only part of the vector field\n",
    "cpos = pl.show(return_cpos=True)"
   ]
  },
  {
   "cell_type": "code",
   "execution_count": 3,
   "id": "7e7bcec7",
   "metadata": {},
   "outputs": [
    {
     "data": {
      "application/vnd.jupyter.widget-view+json": {
       "model_id": "c958d38854c14101b80dca24159c33a7",
       "version_major": 2,
       "version_minor": 0
      },
      "text/plain": [
       "Widget(value=\"<iframe src='http://localhost:50397/index.html?ui=P_0x2b8ab03cd60_0&reconnect=auto' style='width…"
      ]
     },
     "metadata": {},
     "output_type": "display_data"
    }
   ],
   "source": [
    "# Example dataset with normals\n",
    "mesh = examples.load_random_hills()\n",
    "\n",
    "# create a subset of arrows using the glyph filter\n",
    "arrows = mesh.glyph(scale=\"Normals\", orient=\"Normals\", tolerance=0.05)\n",
    "\n",
    "p = pv.Plotter()\n",
    "p.add_mesh(arrows, color=\"black\")\n",
    "p.add_mesh(mesh, scalars=\"Elevation\", cmap=\"terrain\")\n",
    "p.show()"
   ]
  },
  {
   "cell_type": "code",
   "execution_count": 6,
   "id": "e6baeee0",
   "metadata": {},
   "outputs": [
    {
     "data": {
      "application/vnd.jupyter.widget-view+json": {
       "model_id": "5d88a40599944bf48ed77e0712a5fbe5",
       "version_major": 2,
       "version_minor": 0
      },
      "text/plain": [
       "Widget(value=\"<iframe src='http://localhost:50397/index.html?ui=P_0x2b8b11c5fd0_2&reconnect=auto' style='width…"
      ]
     },
     "metadata": {},
     "output_type": "display_data"
    }
   ],
   "source": [
    "mesh = examples.download_blood_vessels().cell_data_to_point_data()\n",
    "mesh.set_active_scalars(\"velocity\")\n",
    "streamlines, src = mesh.streamlines(\n",
    "    return_source=True, source_radius=10, source_center=(92.46, 74.37, 135.5)\n",
    ")\n",
    "\n",
    "boundary = mesh.decimate_boundary().extract_all_edges()\n",
    "\n",
    "p = pv.Plotter()\n",
    "p.add_mesh(streamlines.tube(radius=0.2), lighting=False)\n",
    "p.add_mesh(src)\n",
    "p.add_mesh(boundary, color=\"grey\", opacity=0.25)\n",
    "p.camera_position = [(10, 9.5, -43), (87.0, 73.5, 123.0), (-0.5, -0.7, 0.5)]\n",
    "p.show()"
   ]
  },
  {
   "cell_type": "code",
   "execution_count": 6,
   "id": "19eed87e",
   "metadata": {},
   "outputs": [
    {
     "data": {
      "application/vnd.jupyter.widget-view+json": {
       "model_id": "e5b2e6fc28414eea850433338bbc0da2",
       "version_major": 2,
       "version_minor": 0
      },
      "text/plain": [
       "Widget(value=\"<iframe src='http://localhost:62052/index.html?ui=P_0x27c69a4d3d0_4&reconnect=auto' style='width…"
      ]
     },
     "metadata": {},
     "output_type": "display_data"
    }
   ],
   "source": [
    "mesh = examples.download_blood_vessels().cell_data_to_point_data()\n",
    "mesh.set_active_scalars(\"velocity\")\n",
    "streamlines, src = mesh.streamlines(\n",
    "    return_source=True, source_radius=10, source_center=(92.46, 74.37, 135.5)\n",
    ")\n",
    "\n",
    "boundary = mesh.decimate_boundary().extract_all_edges()\n",
    "\n",
    "sargs = dict(vertical=True, title_font_size=16)\n",
    "p = pv.Plotter()\n",
    "p.add_mesh(streamlines.tube(radius=0.2), lighting=False, scalar_bar_args=sargs)\n",
    "p.add_mesh(src)\n",
    "p.add_mesh(boundary, color=\"grey\", opacity=0.25)\n",
    "p.camera_position = [(10, 9.5, -43), (87.0, 73.5, 123.0), (-0.5, -0.7, 0.5)]\n",
    "p.show()\n"
   ]
  },
  {
   "cell_type": "code",
   "execution_count": null,
   "id": "cba75477",
   "metadata": {},
   "outputs": [],
   "source": []
  }
 ],
 "metadata": {
  "kernelspec": {
   "display_name": "Python 3 (ipykernel)",
   "language": "python",
   "name": "python3"
  },
  "language_info": {
   "codemirror_mode": {
    "name": "ipython",
    "version": 3
   },
   "file_extension": ".py",
   "mimetype": "text/x-python",
   "name": "python",
   "nbconvert_exporter": "python",
   "pygments_lexer": "ipython3",
   "version": "3.9.13"
  }
 },
 "nbformat": 4,
 "nbformat_minor": 5
}
